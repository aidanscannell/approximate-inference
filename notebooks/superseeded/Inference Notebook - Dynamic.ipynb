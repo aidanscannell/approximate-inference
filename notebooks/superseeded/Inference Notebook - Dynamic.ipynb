{
 "cells": [
  {
   "cell_type": "markdown",
   "metadata": {},
   "source": [
    "# COMS3007 - Machine Learning - Inference Coursework\n",
    "\n",
    "## Setup\n",
    "\n",
    "For all of the questions in this coursework we used the following Python packages:"
   ]
  },
  {
   "cell_type": "code",
   "execution_count": 16,
   "metadata": {},
   "outputs": [],
   "source": [
    "import numpy as np\n",
    "import matplotlib.pyplot as plt\n",
    "from scipy.misc import imread\n",
    "from ipywidgets import widgets\n",
    "from IPython.display import display"
   ]
  },
  {
   "cell_type": "markdown",
   "metadata": {},
   "source": [
    "Several functions were used to add noise and setup the input images:"
   ]
  },
  {
   "cell_type": "code",
   "execution_count": 17,
   "metadata": {},
   "outputs": [],
   "source": [
    "def add_gaussian_noise(im,prop,varSigma):\n",
    "    ########################################################################################\n",
    "    # add_gaussian_noise - Created image with addition of Gaussina noise\n",
    "    #   Inputs:\n",
    "    #       im -> input image\n",
    "    #       prop -> proportion of pixels to have noise added\n",
    "    #       varSigma ->\n",
    "    #   Outputs:\n",
    "    #      im2 -> noisy image\n",
    "    ########################################################################################\n",
    "    N = int(np.round(np.prod(im.shape)*prop))\n",
    "\n",
    "    index = np.unravel_index(np.random.permutation(np.prod(im.shape))[1:N],im.shape)\n",
    "    e = varSigma*np.random.randn(np.prod(im.shape)).reshape(im.shape)\n",
    "    im2 = np.copy(im)\n",
    "    im2 = np.float64(im2)\n",
    "    im2[index] += e[index]\n",
    "    \n",
    "    return im2\n",
    "\n",
    "def add_saltnpeppar_noise(im,propSP):\n",
    "    ########################################################################################\n",
    "    # add_saltnpeppar_noise - Created image with addition of salt and pepper noise (flipped pixels)\n",
    "    #   Inputs:\n",
    "    #       im -> input image\n",
    "    #       prop -> proportion of pixels to have noise added\n",
    "    #   Outputs:\n",
    "    #      im2 -> noisy image\n",
    "    ########################################################################################\n",
    "    N = int(np.round(np.prod(im.shape)*propSP))\n",
    "\n",
    "    index = np.unravel_index(np.random.permutation(np.prod(im.shape))[1:N],im.shape)\n",
    "    im2 = np.copy(im)\n",
    "    im2[index] = 1-im2[index]\n",
    "\n",
    "    return im2\n",
    "\n",
    "def setup_image(img, prop, varSigma, propSP):\n",
    "    ########################################################################################\n",
    "    # setup_image - Creates different noisy images and sets noisy and latent images\n",
    "    #   Inputs:\n",
    "    #       img -> input image\n",
    "    #       prop -> proportion of pixels to have noise added\n",
    "    #       varSigma -> variance of gaussian noise\n",
    "    #       level -> level of noise (gaussian, saltnpepper, both)\n",
    "    #   Outputs:\n",
    "    #      orgImg -> original grayscale image\n",
    "    #      im2 -> gaussian noise image\n",
    "    #      im3 -> salnpepper noise image\n",
    "    #      im4 -> gaussian and slatnpepper noise image\n",
    "    #      yImg -> noisy image\n",
    "    #      xImg -> latent image\n",
    "    ########################################################################################\n",
    "    # read image and set values to +1 -1\n",
    "    orgImg = imread(img)  # original image\n",
    "    orgImg = np.asarray(orgImg, int)\n",
    "    orgImg[orgImg < np.mean(orgImg)] = -1\n",
    "    orgImg[orgImg >= np.mean(orgImg)] = 1\n",
    "\n",
    "    # add noise to original image\n",
    "    im2 = add_gaussian_noise(orgImg, prop, varSigma)  # gaussian noise\n",
    "    im3 = add_saltnpeppar_noise(orgImg, propSP)  # salt and pepper noise\n",
    "    im4 = add_saltnpeppar_noise(im2, propSP)  # gaussian + salt and pepper noise\n",
    "\n",
    "    yImg = np.array(im4)  # noisy image\n",
    "    xImg = yImg  # latent image\n",
    "    \n",
    "    return orgImg, im2, im3, im4, yImg, xImg"
   ]
  },
  {
   "cell_type": "markdown",
   "metadata": {},
   "source": [
    "Some other functions were used throughout the questions:"
   ]
  },
  {
   "cell_type": "code",
   "execution_count": 3,
   "metadata": {},
   "outputs": [],
   "source": [
    "def neighbours(i,j,M,N,size=4):\n",
    "    ########################################################################################\n",
    "    # neighbours - Finds the neighbours of a node\n",
    "    #   Inputs:\n",
    "    #       i -> x position\n",
    "    #       j -> y position\n",
    "    #       M -> size of image in X\n",
    "    #       N -> size of image in Y\n",
    "    #       size -> 4 doesn't include diagonals, 8 does include diagonals\n",
    "    #   Outputs:\n",
    "    #       n -> array containing coordinates of neighbours\n",
    "    ########################################################################################\n",
    "    if size==4:\n",
    "        if (i==0 and j==0):\n",
    "             n=[(0,1), (1,0)]\n",
    "        elif i==0 and j==N-1:\n",
    "             n=[(0,N-2), (1,N-1)]\n",
    "        elif i==M-1 and j==0:\n",
    "             n=[(M-1,1), (M-2,0)]\n",
    "        elif i==M-1 and j==N-1:\n",
    "             n=[(M-1,N-2), (M-2,N-1)]\n",
    "        elif i==0:\n",
    "             n=[(0,j-1), (0,j+1), (1,j)]\n",
    "        elif i==M-1:\n",
    "             n=[(M-1,j-1), (M-1,j+1), (M-2,j)]\n",
    "        elif j==0:\n",
    "             n=[(i-1,0), (i+1,0), (i,1)]\n",
    "        elif j==N-1:\n",
    "             n=[(i-1,N-1), (i+1,N-1), (i,N-2)]\n",
    "        else:\n",
    "             n=[(i-1,j), (i+1,j), (i,j-1), (i,j+1)]\n",
    "        return n\n",
    "\n",
    "    if size==8:\n",
    "        if (i==0 and j==0):\n",
    "             n=[(0,1), (1,0), (1,1)]\n",
    "        elif i==0 and j==N-1:\n",
    "             n=[(0,N-2), (1,N-1), (1,N-2)]\n",
    "        elif i==M-1 and j==0:\n",
    "             n=[(M-1,1), (M-2,0), (M-2,1)]\n",
    "        elif i==M-1 and j==N-1:\n",
    "             n=[(M-1,N-2), (M-2,N-1), (M-2,N-2)]\n",
    "        elif i==0:\n",
    "             n=[(0,j-1), (0,j+1), (1,j), (1,j+1), (1,j-1)]\n",
    "        elif i==M-1:\n",
    "             n=[(M-1,j-1), (M-1,j+1), (M-2,j), (M-2,j-1), (M-2,j+1)]\n",
    "        elif j==0:\n",
    "             n=[(i-1,0), (i+1,0), (i,1), (i-1,1), (i+1,1)]\n",
    "        elif j==N-1:\n",
    "             n=[(i-1,N-1), (i+1,N-1), (i,N-2), (i-1,N-2), (i+1,N-2)]\n",
    "        else:\n",
    "             n=[(i-1,j), (i+1,j), (i,j-1), (i,j+1), (i-1,j-1), (i-1,j+1), (i+1,j-1), (i+1,j+1)]\n",
    "\n",
    "        return n\n",
    "\n",
    "def energy(noisyImg,latentImg,x,y,consts):\n",
    "    ########################################################################################\n",
    "    # energy - Calculates energy function\n",
    "    #   Inputs:\n",
    "    #       noisyImg -> noisy image\n",
    "    #       latentImg -> latent image\n",
    "    #       x -> x position\n",
    "    #       y -> y position\n",
    "    #       consts -> energy function constants [h,beta,n]\n",
    "    #   Outputs:\n",
    "    #       e -> energy of current state\n",
    "    ########################################################################################\n",
    "    e = consts[0]*latentImg[x,y] # h*sumXi\n",
    "    e += -consts[2]*latentImg[x,y]*noisyImg[x,y] # -n*sumXiYi\n",
    "\n",
    "    neighbour = neighbours(x, y, latentImg.shape[0], latentImg.shape[1], size=8)\n",
    "\n",
    "    for ii in range(len(neighbour)):\n",
    "        e += -consts[1]*latentImg[x,y]*latentImg[neighbour[ii]]\n",
    "\n",
    "    return e\n",
    "\n",
    "def convergence_rate(xImg,orgImg):\n",
    "    ########################################################################################\n",
    "    # convergence_rate - Calculates the percentage of pixels that are correct in the de-noised image\n",
    "    #   Inputs:\n",
    "    #       xImg -> latent image\n",
    "    #       orgImg -> original image\n",
    "    #   Outputs:\n",
    "    #       convergence_rate -> percentage of pixels in xImg that are the same as in orgImg\n",
    "    ########################################################################################\n",
    "    convergence_rate = float(np.sum(xImg == orgImg)) / orgImg.size * 100.00\n",
    "    return convergence_rate\n",
    "\n",
    "def final_plot(orgImg, im2, im3, im4,xImg, level):\n",
    "    ########################################################################################\n",
    "    # final_plot - Plot original image, noisy image and de-noised image\n",
    "    #   Inputs:\n",
    "    #       orgImg -> original image\n",
    "    #       im2 -> gaussian noise image\n",
    "    #       im3 -> salt n pepper noise image\n",
    "    #       im4 -> both gaussian and salt n pepper noise image\n",
    "    #       xImg -> latent image\n",
    "    #       level -> level of noise (guassian, saltnpepper, both)\n",
    "    #   Outputs:\n",
    "    #       plots original, noisy and de-noised image\n",
    "    ########################################################################################\n",
    "    noisy_im = im4\n",
    "    \n",
    "    f, axarr = plt.subplots(1,3)\n",
    "    axarr[0].imshow(orgImg,cmap='gray')\n",
    "    axarr[0].set_title('Original Image')\n",
    "    axarr[1].imshow(noisy_im,cmap='gray')\n",
    "    axarr[1].set_title('Noisy Image')\n",
    "    axarr[2].imshow(xImg,cmap='gray')\n",
    "    axarr[2].set_title('De-noised Image')\n",
    "    \n",
    "    plt.show()"
   ]
  },
  {
   "cell_type": "markdown",
   "metadata": {},
   "source": [
    "The convergence_rate function calculates the percentage of pixels in the de-noised image that are the same as the original image; this acts as a good quantitative measure of algorithm performance."
   ]
  },
  {
   "cell_type": "markdown",
   "metadata": {},
   "source": [
    "## Question 1 - Iterative Conditional Models (ICM)\n",
    "\n",
    "The functions to implement ICM are as follows:"
   ]
  },
  {
   "cell_type": "code",
   "execution_count": 4,
   "metadata": {},
   "outputs": [],
   "source": [
    "def totalEnergy(noisyImg,latentImg,consts):\n",
    "    ########################################################################################\n",
    "    # totalEnergy - Calculates total energy for whole image\n",
    "    #   Inputs:\n",
    "    #       noisyImg -> noisy image\n",
    "    #       latentImg -> latent image\n",
    "    #       consts -> energy function constants [h,beta,n]\n",
    "    #   Outputs:\n",
    "    #       totalE -> total energy of image in current state\n",
    "    ########################################################################################\n",
    "    totalE = 0\n",
    "\n",
    "    for i in range(latentImg.shape[0]):\n",
    "        for j in range(latentImg.shape[1]):\n",
    "            totalE += energy(noisyImg,latentImg,i,j,consts)\n",
    "\n",
    "    return totalE\n",
    "\n",
    "\n",
    "def icm(image,noise,consts,plot_all_flag=0):\n",
    "    ########################################################################################\n",
    "    # icm - Calculates best value of pixel for current state using ICM algorithm\n",
    "    #   Inputs:\n",
    "    #       image -> noisy image\n",
    "    #       prop -> proportion of pixels to flip for noisy image\n",
    "    #       varSigma -> variance of gaussian noise\n",
    "    #       level -> type of noise (1 - gaussian, 2 - salt and pepper, 3 - both)\n",
    "    #       consts -> energy function constants [h,beta,n]\n",
    "    #   Outputs:\n",
    "    #       plot of de-noised image\n",
    "    ########################################################################################\n",
    "    # setup image\n",
    "    orgImg, im2, im3, im4, yImg, xImg = setup_image(image, noise[0], noise[1], noise[2])\n",
    "\n",
    "    # calculate total energy of noisy image\n",
    "    totalE = totalEnergy(yImg, xImg, consts)\n",
    "    currentE = totalE\n",
    "    print(\"Percent of pixels correct: \", round(convergence_rate(xImg, orgImg), 2), \"%\")\n",
    "    print(\"Iteration: \")\n",
    "    for i in range(T):\n",
    "        for x in range(xImg.shape[0]):\n",
    "            for y in range(xImg.shape[1]):\n",
    "\n",
    "                orgEnergy = energy(yImg, xImg, x, y, consts)\n",
    "                diffEnergy = totalE - orgEnergy\n",
    "\n",
    "                testLatentImg1 = np.copy(xImg)\n",
    "                testLatentImg2 = np.copy(xImg)\n",
    "\n",
    "                testLatentImg1[x, y] = -1\n",
    "                testLatentImg2[x, y] = 1\n",
    "\n",
    "                tstEnergy1 = energy(yImg, testLatentImg1, x, y, consts)\n",
    "                tstEnergy2 = energy(yImg, testLatentImg2, x, y, consts)\n",
    "\n",
    "                if tstEnergy1 < tstEnergy2:\n",
    "                    xImg = testLatentImg1\n",
    "                    totalE = diffEnergy + tstEnergy1\n",
    "                elif tstEnergy2 < tstEnergy1:\n",
    "                    xImg = testLatentImg2\n",
    "                    totalE = diffEnergy + tstEnergy2\n",
    "        \n",
    "        if plot_all_flag == 1:\n",
    "            plotICM(xImg,i)\n",
    "        # break loop if energy hasn't been reduced since previous iteration\n",
    "        if totalE == currentE:\n",
    "            print(\"Converged\")\n",
    "            print(\"Number of iterations to converge: \", i + 1)\n",
    "            print(\"Final percent of pixels correct: \", round(convergence_rate(xImg, orgImg), 2), \"%\")\n",
    "            break\n",
    "        currentE = totalE\n",
    "        print((i+1), end=\" \")\n",
    "\n",
    "    # Plot original image, noisy image and de-noised image\n",
    "    final_plot(orgImg, im2, im3, im4, xImg, noise[2])\n",
    "    \n",
    "def plotICM(latentImg,i):\n",
    "    ########################################################################################\n",
    "    # plotICM - Plots de-noised image \n",
    "    #   Inputs:\n",
    "    #       latentImg -> latent image\n",
    "    #       i -> number of iterations\n",
    "    #   Outputs:\n",
    "    #       plots and saves input image\n",
    "    ########################################################################################\n",
    "    f = plt.figure()\n",
    "    ax = f.add_subplot(111)\n",
    "    ax.imshow(latentImg, cmap='gray')\n",
    "    ax.set_title('De-noised Image (%d iterations)' % (i+1), fontsize=16)\n",
    "#     f.savefig('icm%diterations.png' % i)\n",
    "    # plt.show()\n",
    "    return -1"
   ]
  },
  {
   "cell_type": "markdown",
   "metadata": {},
   "source": [
    "## Questions 2-4 - Gibbs Sampling\n",
    "\n",
    "The functions to implement Gibbs Sampling are as follows:"
   ]
  },
  {
   "cell_type": "code",
   "execution_count": 9,
   "metadata": {},
   "outputs": [],
   "source": [
    "def gibbs(noisyImg,latentImg,x,y,consts,totalE):\n",
    "    ########################################################################################\n",
    "    # gibbs - Calculates best value of pixel for current state using gibbs sampling\n",
    "    #   Inputs:\n",
    "    #       noisyImg -> noisy image\n",
    "    #       latentImg -> latent image\n",
    "    #       x -> x position\n",
    "    #       y -> y position\n",
    "    #       consts -> energy function constants [h,beta,n]\n",
    "    #       totalE -> total energy of image\n",
    "    #   Outputs:\n",
    "    #       latentImg -> latent image with preferred pixel value\n",
    "    ########################################################################################\n",
    "    orgEnergy = energy(noisyImg, latentImg, x, y, consts)\n",
    "    diffEnergy = totalE - orgEnergy\n",
    "\n",
    "    testLatentImg1 = np.copy(latentImg)\n",
    "    testLatentImg2 = np.copy(latentImg)\n",
    "\n",
    "    testLatentImg1[x, y] = 1\n",
    "    testLatentImg2[x, y] = -1\n",
    "\n",
    "    tstEnergy1 = energy(noisyImg, testLatentImg1, x, y, consts)\n",
    "    tstEnergy2 = energy(noisyImg, testLatentImg2, x, y, consts)\n",
    "\n",
    "    px1 = np.exp(-tstEnergy1) / (np.exp(-tstEnergy2) + np.exp(-tstEnergy1)) # p(x_i=1 | x_\\i,y_i)\n",
    "\n",
    "    # t = np.random.uniform(0,1)\n",
    "    t = np.random.uniform(0.4, 0.6)\n",
    "\n",
    "    if px1 > t:\n",
    "        latentImg = testLatentImg1\n",
    "        totalE = diffEnergy + tstEnergy1\n",
    "    else:\n",
    "        latentImg = testLatentImg2\n",
    "        totalE = diffEnergy + tstEnergy2\n",
    "\n",
    "    return latentImg, totalE\n",
    "\n",
    "def gibbsMain(image,noise,consts,random_node_flag,plot_all_flag):\n",
    "    ########################################################################################\n",
    "    # gibbs - De-noises image using gibbs sampling\n",
    "    #   Inputs:\n",
    "    #       image -> noisy image\n",
    "    #       noise -> [prop, varSigma, level -> proportion of pixels to apply noise, variance of gaussian noise, type of noise (1 - gaussian, 2 - salt and pepper, 3 - both)\n",
    "    #       consts -> energy function constants [h,beta,n]\n",
    "    #       random_node_flag -> if random_node_flag=1 then selects random pixel each iteration\n",
    "    #       plot_all_flag -> if plot_all_flag=1 then plots each iteration\n",
    "    #   Outputs:\n",
    "    #       plot of de-noised image\n",
    "    ########################################################################################\n",
    "    # setup image\n",
    "    orgImg, im2, im3, im4, yImg, xImg = setup_image(image, noise[0], noise[1], noise[2])\n",
    "\n",
    "    # calculate total energy of noisy image\n",
    "    totalE = totalEnergy(yImg, xImg, consts)\n",
    "    currentE = totalE\n",
    "\n",
    "    print(\"Percent of pixels correct: \", round(convergence_rate(xImg, orgImg), 2), \"%\")\n",
    "    print(\"Iteration: \")\n",
    "    \n",
    "    # Perform gibbs sampling with either random or structured cycling through nodes\n",
    "    if random_node_flag == 1:\n",
    "        np.random.seed(42)  # fix the random seed to get reproducible results\n",
    "        N = xImg.shape[0] * xImg.shape[1]  # calculate number of pixels\n",
    "        for i in range(T):\n",
    "            for a in range(1, N):\n",
    "                x = np.random.randint(0, orgImg.shape[0])  # pick random x\n",
    "                y = np.random.randint(0, orgImg.shape[1])  # pick random y\n",
    "                xImg, totalE = gibbs(yImg, xImg, x, y, consts, totalE)  # run gibbs sampling\n",
    "\n",
    "            print((i+1), end=\" \")\n",
    "            # print(\"Percent of pixels correct: \", round(convergence_rate(xImg, orgImg), 2), \"%\")\n",
    "            if plot_all_flag == 1:\n",
    "                plotGibbs(xImg, i + 1)\n",
    "\n",
    "            # break loop if energy hasn't been reduced since previous iteration\n",
    "            if totalE == currentE:\n",
    "                print(\"Converged\")\n",
    "                print(\"Number of iterations to converge: \", i + 1)\n",
    "#                 print(\"Final percent of pixels correct: \", round(convergence_rate(xImg, orgImg), 2), \"%\")\n",
    "                break\n",
    "            currentE = totalE\n",
    "    else:\n",
    "        for i in range(T):\n",
    "            for x in range(xImg.shape[0]):\n",
    "                for y in range(xImg.shape[1]):\n",
    "                    xImg, totalE = gibbs(yImg, xImg, x, y, consts, totalE)  # run gibbs sampling\n",
    "\n",
    "            print((i+1), end=\" \")\n",
    "            #print(\"Percent of pixels correct: \", round(convergence_rate(xImg, orgImg), 2), \"%\")\n",
    "            if plot_all_flag == 1:\n",
    "                plotGibbs(xImg,i+1)\n",
    "\n",
    "            # break loop if energy hasn't been reduced since previous iteration\n",
    "            if totalE == currentE:\n",
    "                print(\"Converged\")\n",
    "                print(\"Number of iterations to converge: \", i + 1)\n",
    "#                 print(\"Final percent of pixels correct: \", round(convergence_rate(xImg, orgImg), 2), \"%\")\n",
    "                break\n",
    "            currentE = totalE\n",
    "\n",
    "    # Plot original image, noisy image and de-noised image\n",
    "    print(\"Final percent of pixels correct: \", round(convergence_rate(xImg, orgImg), 2), \"%\")\n",
    "    final_plot(orgImg, im2, im3, im4, xImg, noise[2])\n",
    "    \n",
    "def plotGibbs(latentImg,i):\n",
    "    ########################################################################################\n",
    "    # plotGibbs - Plots de-noised image\n",
    "    #   Inputs:\n",
    "    #       latentImg -> latent image\n",
    "    #       i -> number of iterations\n",
    "    #   Outputs:\n",
    "    #       plots and saves input image\n",
    "    ########################################################################################\n",
    "    f = plt.figure()\n",
    "    ax = f.add_subplot(111)\n",
    "    ax.imshow(latentImg, cmap='gray')\n",
    "    ax.set_title('De-noised Image (%d iterations)' % i, fontsize=16)\n",
    "    # f.savefig('gibbs%diterations.png' % i)\n",
    "    return"
   ]
  },
  {
   "cell_type": "markdown",
   "metadata": {},
   "source": [
    "## Questions 6-7 - Variational Bayes"
   ]
  },
  {
   "cell_type": "markdown",
   "metadata": {},
   "source": [
    "The functions to implement Variational Bayes are as follows:"
   ]
  },
  {
   "cell_type": "code",
   "execution_count": 13,
   "metadata": {},
   "outputs": [],
   "source": [
    "def varBayes(image,noise,consts,plot_all_flag=0):\n",
    "    ########################################################################################\n",
    "    # varBayes -> Calculates best value of pixel for current state using variational Bayes\n",
    "    #               and updates variational parameter\n",
    "    #   Inputs:\n",
    "    #       image -> noisy image\n",
    "    #       noise -> [prop, varSigma, level -> proportion of pixels to apply noise, variance of gaussian noise, type of noise (1 - gaussian, 2 - salt and pepper, 3 - both)\n",
    "    #       consts -> energy function constants [h,beta,n]\n",
    "    #       plot_all_flag -> if plot_all_flag=1 then plots each iteration\n",
    "    #   Outputs:\n",
    "    #       plot of de-noised image\n",
    "    ########################################################################################\n",
    "    # setup image\n",
    "    orgImg, im2, im3, im4, yImg, xImg = setup_image(image, noise[0], noise[1], noise[2])\n",
    "\n",
    "    mu = np.zeros([xImg.shape[0], xImg.shape[1]])  # variational distribution\n",
    "\n",
    "    # calculate total energy of noisy image\n",
    "    totalE = totalEnergy(yImg, xImg, consts)\n",
    "    currentE = totalE\n",
    "\n",
    "    print(\"Percent of pixels correct: \", round(convergence_rate(xImg, orgImg), 2), \"%\")\n",
    "    print(\"Iteration: \")\n",
    "    \n",
    "    for i in range(T):\n",
    "        for x in range(xImg.shape[0]):\n",
    "            for y in range(xImg.shape[1]):\n",
    "\n",
    "                orgEnergy = energy(yImg, xImg, x, y, consts)\n",
    "                diffEnergy = totalE - orgEnergy\n",
    "\n",
    "                # calculate variational parameter for current pixel\n",
    "                m_i = 0\n",
    "                neighbour = neighbours(x, y, xImg.shape[0], xImg.shape[1], size=8)\n",
    "                for ii in range(len(neighbour)):\n",
    "                    neighbour1 = neighbour[ii]\n",
    "                    m_i += consts[1] * mu[neighbour1[0], neighbour1[1]]\n",
    "                a_i = m_i + 1 / 2 * ((consts[0] * 1 - consts[2] * 1 * yImg[x, y]) - (consts[0] * -1 - consts[2] * -1 * yImg[x, y]))  # where Li(xi) = h*sumXi - n*sumXiYi\n",
    "                mu_i = np.tanh(a_i)\n",
    "\n",
    "                # update variational parameter matrix\n",
    "                mu[x, y] = mu_i\n",
    "\n",
    "                # calculate posterior for pixel i\n",
    "                q_x = 1 / (1 + np.exp(-2 * a_i))\n",
    "\n",
    "                # set pixel value in latent image (x) based on posterior\n",
    "                if q_x < 0.5:\n",
    "                    xImg[x, y] = 1\n",
    "                else:\n",
    "                    xImg[x, y] = -1\n",
    "\n",
    "                totalE = diffEnergy + energy(yImg, xImg, x, y, consts)\n",
    "\n",
    "        if plot_all_flag == 1:\n",
    "            plotVarBayes(xImg, i + 1)\n",
    "\n",
    "        # break loop if energy hasn't been reduced since previous iteration\n",
    "        if totalE == currentE:\n",
    "            print(\"Converged\")\n",
    "            print(\"Number of iterations to converge: \", i + 1)\n",
    "#             print(\"Final percent of pixels correct: \", round(convergence_rate(xImg, orgImg), 2), \"%\")\n",
    "            break\n",
    "        currentE = totalE\n",
    "\n",
    "        print((i+1), end=\" \")\n",
    "        #print(\"Percent of pixels correct: \", round(convergence_rate(xImg, orgImg), 2), \"%\")\n",
    "\n",
    "    #   Plot original image, noisy image and de-noised image\n",
    "    print(\"Final percent of pixels correct: \", round(convergence_rate(xImg, orgImg), 2), \"%\")\n",
    "    final_plot(orgImg, im2, im3, im4, xImg, noise[2])"
   ]
  },
  {
   "cell_type": "markdown",
   "metadata": {},
   "source": [
    "## Comparison"
   ]
  },
  {
   "cell_type": "code",
   "execution_count": 14,
   "metadata": {
    "scrolled": true
   },
   "outputs": [
    {
     "name": "stdout",
     "output_type": "stream",
     "text": [
      "Parameters:\n"
     ]
    },
    {
     "data": {
      "application/vnd.jupyter.widget-view+json": {
       "model_id": "00ad2d98279041e0ba953d0270ee6e52",
       "version_major": 2,
       "version_minor": 0
      },
      "text/plain": [
       "FloatSlider(value=0.3, description='h', max=2.0)"
      ]
     },
     "metadata": {},
     "output_type": "display_data"
    },
    {
     "data": {
      "application/vnd.jupyter.widget-view+json": {
       "model_id": "3f215b385e4a47058e0336c8419bbb7f",
       "version_major": 2,
       "version_minor": 0
      },
      "text/plain": [
       "FloatSlider(value=0.5, description='beta', max=2.0)"
      ]
     },
     "metadata": {},
     "output_type": "display_data"
    },
    {
     "data": {
      "application/vnd.jupyter.widget-view+json": {
       "model_id": "a0a05cc67c694d7db9e026b9d54b3745",
       "version_major": 2,
       "version_minor": 0
      },
      "text/plain": [
       "FloatSlider(value=1.5, description='n', max=2.0)"
      ]
     },
     "metadata": {},
     "output_type": "display_data"
    },
    {
     "name": "stdout",
     "output_type": "stream",
     "text": [
      "Gaussian Noise:\n"
     ]
    },
    {
     "data": {
      "application/vnd.jupyter.widget-view+json": {
       "model_id": "e8a7a9fc0de24c6c958803a853a5b01f",
       "version_major": 2,
       "version_minor": 0
      },
      "text/plain": [
       "FloatSlider(value=0.2, description='Proportion of pixels distorted with Gaussian noise', max=1.0)"
      ]
     },
     "metadata": {},
     "output_type": "display_data"
    },
    {
     "data": {
      "application/vnd.jupyter.widget-view+json": {
       "model_id": "722ecda750af4af5bf2dde193f1e606a",
       "version_major": 2,
       "version_minor": 0
      },
      "text/plain": [
       "FloatSlider(value=0.5, description='Variance', max=5.0)"
      ]
     },
     "metadata": {},
     "output_type": "display_data"
    },
    {
     "name": "stdout",
     "output_type": "stream",
     "text": [
      "Salt and Pepper Noise:\n"
     ]
    },
    {
     "data": {
      "application/vnd.jupyter.widget-view+json": {
       "model_id": "eaa22f56c1454885aef22669e769d9f3",
       "version_major": 2,
       "version_minor": 0
      },
      "text/plain": [
       "FloatSlider(value=0.2, description='Proportion of pixels distorted with salt and pepper noise', max=1.0)"
      ]
     },
     "metadata": {},
     "output_type": "display_data"
    },
    {
     "name": "stdout",
     "output_type": "stream",
     "text": [
      "Settings:\n"
     ]
    },
    {
     "data": {
      "application/vnd.jupyter.widget-view+json": {
       "model_id": "762ab6e6a91340509b53190fa79270c1",
       "version_major": 2,
       "version_minor": 0
      },
      "text/plain": [
       "IntSlider(value=20, description='Iterations - maximum number', max=40, min=1)"
      ]
     },
     "metadata": {},
     "output_type": "display_data"
    },
    {
     "data": {
      "application/vnd.jupyter.widget-view+json": {
       "model_id": "4b99c0b5afb94501acfd372c45aabb76",
       "version_major": 2,
       "version_minor": 0
      },
      "text/plain": [
       "Checkbox(value=True, description='ICM')"
      ]
     },
     "metadata": {},
     "output_type": "display_data"
    },
    {
     "data": {
      "application/vnd.jupyter.widget-view+json": {
       "model_id": "871379bcea40473a9126dcf1036c2cbc",
       "version_major": 2,
       "version_minor": 0
      },
      "text/plain": [
       "Checkbox(value=True, description='Gibbs Sampling')"
      ]
     },
     "metadata": {},
     "output_type": "display_data"
    },
    {
     "data": {
      "application/vnd.jupyter.widget-view+json": {
       "model_id": "54b941b33a3c423ab8d26cb3283e7ff8",
       "version_major": 2,
       "version_minor": 0
      },
      "text/plain": [
       "Checkbox(value=True, description='Gibbs Random Sampling')"
      ]
     },
     "metadata": {},
     "output_type": "display_data"
    },
    {
     "data": {
      "application/vnd.jupyter.widget-view+json": {
       "model_id": "e55be3c9c28e426b98a218072e49d854",
       "version_major": 2,
       "version_minor": 0
      },
      "text/plain": [
       "Checkbox(value=True, description='Variational Bayes')"
      ]
     },
     "metadata": {},
     "output_type": "display_data"
    }
   ],
   "source": [
    "h = widgets.FloatSlider(value=0.3, min=0, max=2, description='h')\n",
    "beta = widgets.FloatSlider(value=0.5, min=0, max=2, description='beta')\n",
    "n = widgets.FloatSlider(value=1.5, min=0, max=2, description='n')\n",
    "\n",
    "print('Parameters:')\n",
    "display(h,beta,n)\n",
    "\n",
    "prop = widgets.FloatSlider(value=0.2, min=0, max=1, description='Proportion of pixels distorted with Gaussian noise')\n",
    "varSigma = widgets.FloatSlider(value=0.5,min=0,max=5,description='Variance')\n",
    "\n",
    "print('Gaussian Noise:')\n",
    "display(prop,varSigma)\n",
    "\n",
    "propSP = widgets.FloatSlider(\n",
    "    value=0.2, min=0, max=1, description='Proportion of pixels distorted with salt and pepper noise')\n",
    "\n",
    "print('Salt and Pepper Noise:')\n",
    "display(propSP)\n",
    "\n",
    "print('Settings:')\n",
    "max_iterations = widgets.IntSlider(value=20, min=1, max=40, description='Iterations - maximum number')\n",
    "run_ICM = widgets.Checkbox(value=True, description='ICM', disabled=False)\n",
    "run_Gibbs = widgets.Checkbox(value=True, description='Gibbs Sampling', disabled=False)\n",
    "run_GibbsRan = widgets.Checkbox(value=True, description='Gibbs Random Sampling', disabled=False)\n",
    "run_VB = widgets.Checkbox(value=True, description='Variational Bayes', disabled=False)\n",
    "display(max_iterations, run_ICM, run_Gibbs, run_GibbsRan, run_VB)\n",
    "\n"
   ]
  },
  {
   "cell_type": "code",
   "execution_count": 15,
   "metadata": {},
   "outputs": [
    {
     "name": "stdout",
     "output_type": "stream",
     "text": [
      "Iterative Conditioning Model:\n",
      "Percent of pixels correct:  63.84 %\n",
      "Iteration: \n",
      "1 2 3 4 5 6 7 8 Converged\n",
      "Number of iterations to converge:  9\n",
      "Final percent of pixels correct:  95.38 %\n"
     ]
    },
    {
     "data": {
      "image/png": "[encoded data removed]",
      "text/plain": [
       "<Figure size 432x288 with 3 Axes>"
      ]
     },
     "metadata": {
      "needs_background": "light"
     },
     "output_type": "display_data"
    },
    {
     "name": "stdout",
     "output_type": "stream",
     "text": [
      "--------------------------------------------------\n",
      "Gibbs Sampling Method:\n",
      "Percent of pixels correct:  63.92 %\n",
      "Iteration: \n",
      "1 2 3 4 5 6 7 8 9 10 11 12 13 14 15 16 17 18 19 20 Final percent of pixels correct:  95.83 %\n"
     ]
    },
    {
     "data": {
      "image/png": "[encoded data removed]",
      "text/plain": [
       "<Figure size 432x288 with 3 Axes>"
      ]
     },
     "metadata": {
      "needs_background": "light"
     },
     "output_type": "display_data"
    },
    {
     "name": "stdout",
     "output_type": "stream",
     "text": [
      "--------------------------------------------------\n",
      "Gibbs Random Sampling Method:\n",
      "Percent of pixels correct:  63.89 %\n",
      "Iteration: \n",
      "1 2 3 4 5 6 7 8 9 10 11 12 13 14 15 16 17 18 19 20 Final percent of pixels correct:  95.72 %\n"
     ]
    },
    {
     "data": {
      "image/png": "[encoded data removed]",
      "text/plain": [
       "<Figure size 432x288 with 3 Axes>"
      ]
     },
     "metadata": {
      "needs_background": "light"
     },
     "output_type": "display_data"
    },
    {
     "name": "stdout",
     "output_type": "stream",
     "text": [
      "--------------------------------------------------\n",
      "Variational Bayes Method:\n",
      "Percent of pixels correct:  64.05 %\n",
      "Iteration: \n",
      "1 2 3 4 5 6 7 8 9 10 11 12 13 Converged\n",
      "Number of iterations to converge:  14\n",
      "Final percent of pixels correct:  95.88 %\n"
     ]
    },
    {
     "data": {
      "image/png": "[encoded data removed]",
      "text/plain": [
       "<Figure size 432x288 with 3 Axes>"
      ]
     },
     "metadata": {
      "needs_background": "light"
     },
     "output_type": "display_data"
    }
   ],
   "source": [
    "noise = [prop.value, varSigma.value, propSP.value]\n",
    "\n",
    "consts = [h.value, beta.value, n.value]\n",
    "\n",
    "plot_all_flag = 0\n",
    "random_node_flag = 0\n",
    "\n",
    "T = max_iterations.value # max number of iterations\n",
    "\n",
    "run_ICM_val = run_ICM.value\n",
    "run_Gibbs_val = run_Gibbs.value\n",
    "run_GibbsRan_val = run_Gibbs.value\n",
    "run_VB_val = run_VB.value\n",
    "\n",
    "# run ICM\n",
    "if run_ICM_val:\n",
    "    print('Iterative Conditioning Model:')\n",
    "    icm('pug-glasses.jpg',noise,consts,plot_all_flag)\n",
    "    print('-'*50)\n",
    "\n",
    "# run gibbs sampling\n",
    "if run_Gibbs_val:\n",
    "    print('Gibbs Sampling Method:')\n",
    "    gibbsMain('pug-glasses.jpg',noise,consts,random_node_flag,plot_all_flag)\n",
    "    print('-'*50)\n",
    "    \n",
    "# run gibbs sampling\n",
    "if run_GibbsRan_val:\n",
    "    random_node_flag = 1\n",
    "    print('Gibbs Random Sampling Method:')\n",
    "    gibbsMain('pug-glasses.jpg',noise,consts,random_node_flag,plot_all_flag)\n",
    "    print('-'*50)\n",
    "\n",
    "# run variational Bayes\n",
    "if run_VB_val:\n",
    "    print('Variational Bayes Method:')\n",
    "    varBayes('pug-glasses.jpg',noise,consts,plot_all_flag=0)\n"
   ]
  },
  {
   "cell_type": "code",
   "execution_count": null,
   "metadata": {},
   "outputs": [],
   "source": []
  }
 ],
 "metadata": {
  "anaconda-cloud": {},
  "kernelspec": {
   "display_name": "Python 3",
   "language": "python",
   "name": "python3"
  },
  "language_info": {
   "codemirror_mode": {
    "name": "ipython",
    "version": 3
   },
   "file_extension": ".py",
   "mimetype": "text/x-python",
   "name": "python",
   "nbconvert_exporter": "python",
   "pygments_lexer": "ipython3",
   "version": "3.6.7"
  }
 },
 "nbformat": 4,
 "nbformat_minor": 1
}
